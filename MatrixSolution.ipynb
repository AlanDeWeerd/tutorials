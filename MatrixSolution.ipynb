{
 "metadata": {
  "name": ""
 },
 "nbformat": 3,
 "nbformat_minor": 0,
 "worksheets": [
  {
   "cells": [
    {
     "cell_type": "heading",
     "level": 1,
     "metadata": {},
     "source": [
      "Matrix solution for a set of linear equations"
     ]
    },
    {
     "cell_type": "markdown",
     "metadata": {},
     "source": [
      "It can be tedious to solve a set of three or more linear equations.  However, the equations can be rewritten in matrix form and solved computationally.  Suppose that you want to solve the equations"
     ]
    },
    {
     "cell_type": "markdown",
     "metadata": {},
     "source": [
      "$$\n",
      "50 I_1 +180 I_2 = 25, \\\\\n",
      "10 I_1 + 100 I_2 - 90 I_3 = 0,  \\\\\n",
      "40 I_1 + 200 I_3 = 25.\n",
      "$$"
     ]
    },
    {
     "cell_type": "markdown",
     "metadata": {},
     "source": [
      "These equations can be rewritten as"
     ]
    },
    {
     "cell_type": "markdown",
     "metadata": {},
     "source": [
      "$$\n",
      "\\left[ {\\begin{matrix}\n",
      "   50 & 180 & 0 \\\\\n",
      "   10 & 100 & -90 \\\\\n",
      "   40 & 0 &  200\\\\\n",
      "  \\end{matrix} } \\right]\n",
      "\\left[ {\\begin{array}{cc}\n",
      "   I_1 \\\\\n",
      "   I_2 \\\\\n",
      "   I_3 \\\\\n",
      "  \\end{array} } \\right]\n",
      "=\n",
      "\\left[ {\\begin{array}{cc}\n",
      "   25 \\\\\n",
      "   0 \\\\\n",
      "   25 \\\\\n",
      "\\end{array} } \\right].\n",
      "$$"
     ]
    },
    {
     "cell_type": "markdown",
     "metadata": {},
     "source": [
      "Define the matrices"
     ]
    },
    {
     "cell_type": "markdown",
     "metadata": {},
     "source": [
      "$$\n",
      "a =\n",
      "\\left[ {\\begin{array}{cc}\n",
      "   50 & 180 & 0 \\\\\n",
      "   10 & 100 & -90 \\\\\n",
      "   40 & 0 &  200\\\\\n",
      "  \\end{array} } \\right],\n",
      "$$"
     ]
    },
    {
     "cell_type": "markdown",
     "metadata": {},
     "source": [
      "$$\n",
      "x =\n",
      "\\left[ {\\begin{array}{cc}\n",
      "   I_1 \\\\\n",
      "   I_2 \\\\\n",
      "   I_3 \\\\\n",
      "  \\end{array} } \\right],\n",
      "$$"
     ]
    },
    {
     "cell_type": "markdown",
     "metadata": {},
     "source": [
      "and"
     ]
    },
    {
     "cell_type": "markdown",
     "metadata": {},
     "source": [
      "$$\n",
      "b =\n",
      "\\left[ {\\begin{array}{cc}\n",
      "   25 \\\\\n",
      "   0 \\\\\n",
      "   25 \\\\\n",
      "\\end{array} } \\right].\n",
      "$$"
     ]
    },
    {
     "cell_type": "markdown",
     "metadata": {},
     "source": [
      "We must solve the following matrix equation"
     ]
    },
    {
     "cell_type": "markdown",
     "metadata": {},
     "source": [
      "$$ ax = b$$"
     ]
    },
    {
     "cell_type": "markdown",
     "metadata": {},
     "source": [
      "for $x$.  If the multiplicative inverse of the matrix $a$ is $a^{-1}$, then the solution is"
     ]
    },
    {
     "cell_type": "markdown",
     "metadata": {},
     "source": [
      "$$x = a^{-1}b.$$"
     ]
    },
    {
     "cell_type": "markdown",
     "metadata": {},
     "source": [
      "It is easy to find the solution with numpy as shown below.  If the two objects being multiplied are matrices, the multiplication operator (*) performs matrix multiplication.  Documentation of the matrix class is available at <A HREF='http://docs.scipy.org/doc/numpy/reference/generated/numpy.matrix.html'>http://docs.scipy.org/doc/numpy/reference/generated/numpy.matrix.html</A>.\n"
     ]
    },
    {
     "cell_type": "code",
     "collapsed": false,
     "input": [
      "from numpy import *\n",
      "\n",
      "a = matrix([[50, 180, 0],\n",
      "            [10, 100, -90],\n",
      "            [40, 0, 200]])\n",
      "\n",
      "b = matrix([[25],\n",
      "            [0],\n",
      "            [25]])\n",
      "\n",
      "# a.I is the multiplicative inverse of the matrix a\n",
      "x =  (a.I)*b\n",
      "print x"
     ],
     "language": "python",
     "metadata": {},
     "outputs": [
      {
       "output_type": "stream",
       "stream": "stdout",
       "text": [
        "[[-11.875 ]\n",
        " [  3.4375]\n",
        " [  2.5   ]]\n"
       ]
      }
     ],
     "prompt_number": 11
    },
    {
     "cell_type": "markdown",
     "metadata": {},
     "source": [
      "This means that"
     ]
    },
    {
     "cell_type": "markdown",
     "metadata": {},
     "source": [
      "$$ \n",
      "I_1 = -11.875, \\\\\n",
      "I_2 = 3.4375, \\\\\n",
      "I_3 = 2.5.\n",
      "$$"
     ]
    },
    {
     "cell_type": "markdown",
     "metadata": {},
     "source": [
      "If the equations to be solved involve physical quantities, you must keep track of units. In that case, it is best to convert all quantities to standard units so that the results will be in standard units.\n",
      "If there is no solution to the equations, the matrix inversion will result in an error."
     ]
    }
   ],
   "metadata": {}
  }
 ]
}